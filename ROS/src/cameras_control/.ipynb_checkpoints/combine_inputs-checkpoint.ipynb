{
 "cells": [
  {
   "cell_type": "code",
   "execution_count": 1,
   "metadata": {},
   "outputs": [],
   "source": [
    "# Use this notebook to combine images and data in case of several interrupted sessions\n",
    "import os\n",
    "import shutil\n",
    "import glob\n",
    "import pandas as pd"
   ]
  },
  {
   "cell_type": "code",
   "execution_count": 5,
   "metadata": {},
   "outputs": [],
   "source": [
    "# Run this cell to rename files in a current folder and copy them to new destination folder\n",
    "current_dir = '/home/robotics20/robotic_arena_ws/ROS/src/cameras_control/robot_captures/'\n",
    "dst_dir = '/home/robotics20/robotic_arena_ws/ROS/src/cameras_control/robot_captures_processed/'\n",
    "files = os.listdir(current_dir)\n",
    "for file in files:\n",
    "    indx = int(file.replace('.png', '')) + 0 # new starting index - old starting index\n",
    "    os.rename(os.path.join(current_dir, file), os.path.join(current_dir, ''.join([str(indx), '.png'])))\n",
    "    shutil.copy(file, dst_dir)"
   ]
  },
  {
   "cell_type": "code",
   "execution_count": 7,
   "metadata": {},
   "outputs": [],
   "source": [
    "# Run this cell to merge multiple CSV files\n",
    "os.chdir('/home/robotics20/robotic_arena_ws/ROS/src/cameras_control/data/')\n",
    "filenames = [i for i in glob.glob('*.{}'.format('csv'))]\n",
    "combined_csv = pd.concat([pd.read_csv(f) for f in filenames])\n",
    "combined_csv.to_csv('img_coor_data_processed.csv', index=False, encoding='utf-8-sig')"
   ]
  },
  {
   "cell_type": "code",
   "execution_count": null,
   "metadata": {},
   "outputs": [],
   "source": []
  }
 ],
 "metadata": {
  "kernelspec": {
   "display_name": "Python 3 (ipykernel)",
   "language": "python",
   "name": "python3"
  },
  "language_info": {
   "codemirror_mode": {
    "name": "ipython",
    "version": 3
   },
   "file_extension": ".py",
   "mimetype": "text/x-python",
   "name": "python",
   "nbconvert_exporter": "python",
   "pygments_lexer": "ipython3",
   "version": "3.9.7"
  }
 },
 "nbformat": 4,
 "nbformat_minor": 2
}
