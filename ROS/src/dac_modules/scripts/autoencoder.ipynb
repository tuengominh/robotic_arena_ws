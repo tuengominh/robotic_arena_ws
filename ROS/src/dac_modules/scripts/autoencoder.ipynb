{
 "cells": [
  {
   "cell_type": "code",
   "execution_count": null,
   "metadata": {},
   "outputs": [],
   "source": [
    "%matplotlib inline\n",
    "import os\n",
    "import numpy as np\n",
    "import matplotlib.pyplot as plt\n",
    "import matplotlib.image as mpimg\n",
    "import cv2\n",
    "import tensorflow as tf\n",
    "import keras as keras\n",
    "from tensorflow.keras.layers import Input, Conv2D, MaxPooling2D, UpSampling2D, Flatten, Dense, Reshape\n",
    "from tensorflow.keras.models import Model, load_model\n",
    "from tensorflow.keras.optimizers import Adam, RMSprop"
   ]
  },
  {
   "cell_type": "code",
   "execution_count": null,
   "metadata": {},
   "outputs": [],
   "source": [
    "# Test GPU availability\n",
    "tf.config.list_physical_devices('GPU')"
   ]
  },
  {
   "cell_type": "code",
   "execution_count": null,
   "metadata": {},
   "outputs": [],
   "source": [
    "img_path = '/home/robotics20/robotic_arena_ws/ROS/src/cameras_ctrl/robot_captures/'\n",
    "npy_path = '/home/robotics20/robotic_arena_ws/ROS/src/cameras_ctrl/robot_captures_npy/'\n",
    "recimg_path = '/home/robotics20/robotic_arena_ws/ROS/src/dac_modules/recimgs/'\n",
    "model_path = '/home/robotics20/robotic_arena_ws/ROS/src/dac_modules/model/autoencoder_offline.h5'"
   ]
  },
  {
   "cell_type": "code",
   "execution_count": null,
   "metadata": {},
   "outputs": [],
   "source": [
    "# Load .npy dataset\n",
    "npys = os.listdir(npy_path)\n",
    "data = np.array([np.load(npy_path + npy) for npy in npys])\n",
    "print(data.shape)"
   ]
  },
  {
   "cell_type": "code",
   "execution_count": null,
   "metadata": {},
   "outputs": [],
   "source": [
    "def build_model(img_shape=(84,84,3)):  \n",
    "    input_img = Input(shape=img_shape)\n",
    "    filter_size = (3, 3)\n",
    "    pooling_size = (2, 2)\n",
    "    \n",
    "    x = Conv2D(16, filter_size, activation='relu', padding='same')(input_img)\n",
    "    x = MaxPooling2D(pooling_size, padding='same')(x)\n",
    "    x = Conv2D(32, filter_size, activation='relu', padding='same')(x)\n",
    "    x = MaxPooling2D(pooling_size, padding='same')(x)\n",
    "    x = Conv2D(32, filter_size, activation='relu', padding='same')(x)\n",
    "    x = MaxPooling2D(pooling_size, padding='same')(x)\n",
    "    \n",
    "    x = Flatten()(x)\n",
    "    x = Dense(20, activation='relu')(x)\n",
    "    x = Dense(11*11*32)(x)\n",
    "    x = Reshape((11, 11, 32))(x)\n",
    "\n",
    "    x = Conv2D(32, filter_size, activation='relu', padding='same')(x)\n",
    "    x = UpSampling2D(pooling_size)(x)\n",
    "    x = Conv2D(32, filter_size, activation='relu', padding='same')(x)\n",
    "    x = UpSampling2D(pooling_size)(x)\n",
    "    x = Conv2D(16, filter_size, activation='relu')(x)\n",
    "    x = UpSampling2D(pooling_size)(x)\n",
    "    x = Conv2D(3, filter_size, activation='relu', padding='same')(x)\n",
    "\n",
    "    model = Model(input_img, x) \n",
    "    optimizer = RMSprop(learning_rate=0.0005)  \n",
    "    model.compile(loss='mse', optimizer=optimizer) \n",
    "    model.summary() \n",
    "    model.save(model_path)\n",
    "    \n",
    "    return model"
   ]
  },
  {
   "cell_type": "code",
   "execution_count": null,
   "metadata": {},
   "outputs": [],
   "source": [
    "def train(model, data, epochs, batch_size):\n",
    "    history = model.fit(data, data, epochs=epochs, batch_size=batch_size)\n",
    "    #error = history.history['loss'][-1]\n",
    "    return history\n",
    "\n",
    "def save_image(prototype, indx):\n",
    "    rec_img = prototype[0]\n",
    "    rec_img = cv2.cvtColor(rec_img, cv2.COLOR_RGB2BGR)\n",
    "    img_name = recimg_path + str(indx) + '.png'\n",
    "    cv2.imwrite(img_name, rec_img)\n",
    "    \n",
    "def predict(model, img, indx):\n",
    "    #m = Model(inputs=model.inputs, outputs=model.get_layer('dense').output)\n",
    "    #prototype = m.predict(np.expand_dims(img, axis=0))\n",
    "    prototype = model.predict(img.reshape((1,84,84,3)))\n",
    "    save_image(prototype, indx)\n",
    "    return prototype"
   ]
  },
  {
   "cell_type": "code",
   "execution_count": null,
   "metadata": {},
   "outputs": [],
   "source": [
    "# Only run this cell to build the initial autoencoder\n",
    "autoencoder = build_model()"
   ]
  },
  {
   "cell_type": "code",
   "execution_count": null,
   "metadata": {
    "scrolled": true
   },
   "outputs": [],
   "source": [
    "# Train the autoencoder\n",
    "autoencoder = keras.models.load_model(model_path)\n",
    "history = train(autoencoder, data, 5000, 16)\n",
    "autoencoder.save(model_path)"
   ]
  },
  {
   "cell_type": "code",
   "execution_count": null,
   "metadata": {},
   "outputs": [],
   "source": [
    "# Plot errors\n",
    "plt.plot(history.history['loss'])"
   ]
  },
  {
   "cell_type": "code",
   "execution_count": null,
   "metadata": {},
   "outputs": [],
   "source": [
    "# Save the predicted/reconstructed images\n",
    "autoencoder = keras.models.load_model(model_path)\n",
    "for npy in npys:\n",
    "    predict(autoencoder, np.load(npy_path + npy), npy.replace('.npy', ''))"
   ]
  },
  {
   "cell_type": "code",
   "execution_count": null,
   "metadata": {},
   "outputs": [],
   "source": [
    "# Vision inputs vs. reconstructed images\n",
    "indx = 835\n",
    "\n",
    "#plt.imshow(mpimg.imread(img_path + str(indx) + '.png'))\n",
    "plt.imshow(np.load(npy_path + str(indx) + '.npy'))\n",
    "plt.show()\n",
    "\n",
    "plt.imshow(mpimg.imread(recimg_path + str(indx) + '.png'))\n",
    "#plt.imshow(np.load(recimg_path + str(indx) + '.npy'))\n",
    "plt.show()"
   ]
  },
  {
   "cell_type": "code",
   "execution_count": null,
   "metadata": {},
   "outputs": [],
   "source": []
  }
 ],
 "metadata": {
  "kernelspec": {
   "display_name": "Python 3",
   "language": "python",
   "name": "python3"
  },
  "language_info": {
   "codemirror_mode": {
    "name": "ipython",
    "version": 3
   },
   "file_extension": ".py",
   "mimetype": "text/x-python",
   "name": "python",
   "nbconvert_exporter": "python",
   "pygments_lexer": "ipython3",
   "version": "3.9.2"
  }
 },
 "nbformat": 4,
 "nbformat_minor": 2
}
