{
 "cells": [
  {
   "cell_type": "code",
   "execution_count": 1,
   "metadata": {},
   "outputs": [
    {
     "ename": "ModuleNotFoundError",
     "evalue": "No module named 'tensorflow'",
     "output_type": "error",
     "traceback": [
      "\u001b[1;31m---------------------------------------------------------------------------\u001b[0m",
      "\u001b[1;31mModuleNotFoundError\u001b[0m                       Traceback (most recent call last)",
      "\u001b[1;32m<ipython-input-1-304877362b54>\u001b[0m in \u001b[0;36m<module>\u001b[1;34m\u001b[0m\n\u001b[0;32m      2\u001b[0m \u001b[1;32mimport\u001b[0m \u001b[0mnumpy\u001b[0m \u001b[1;32mas\u001b[0m \u001b[0mnp\u001b[0m\u001b[1;33m\u001b[0m\u001b[1;33m\u001b[0m\u001b[0m\n\u001b[0;32m      3\u001b[0m \u001b[1;32mimport\u001b[0m \u001b[0mmatplotlib\u001b[0m\u001b[1;33m.\u001b[0m\u001b[0mpyplot\u001b[0m \u001b[1;32mas\u001b[0m \u001b[0mplt\u001b[0m\u001b[1;33m\u001b[0m\u001b[1;33m\u001b[0m\u001b[0m\n\u001b[1;32m----> 4\u001b[1;33m \u001b[1;32mimport\u001b[0m \u001b[0mtensorflow\u001b[0m \u001b[1;32mas\u001b[0m \u001b[0mtf\u001b[0m\u001b[1;33m\u001b[0m\u001b[1;33m\u001b[0m\u001b[0m\n\u001b[0m\u001b[0;32m      5\u001b[0m \u001b[1;32mimport\u001b[0m \u001b[0mkeras\u001b[0m \u001b[1;32mas\u001b[0m \u001b[0mkeras\u001b[0m\u001b[1;33m\u001b[0m\u001b[1;33m\u001b[0m\u001b[0m\n\u001b[0;32m      6\u001b[0m \u001b[1;32mfrom\u001b[0m \u001b[0mkeras\u001b[0m\u001b[1;33m.\u001b[0m\u001b[0mlayers\u001b[0m \u001b[1;32mimport\u001b[0m \u001b[0mInput\u001b[0m\u001b[1;33m,\u001b[0m \u001b[0mConv2D\u001b[0m\u001b[1;33m,\u001b[0m \u001b[0mMaxPooling2D\u001b[0m\u001b[1;33m,\u001b[0m \u001b[0mUpSampling2D\u001b[0m\u001b[1;33m,\u001b[0m \u001b[0mFlatten\u001b[0m\u001b[1;33m,\u001b[0m \u001b[0mDense\u001b[0m\u001b[1;33m,\u001b[0m \u001b[0mReshape\u001b[0m\u001b[1;33m\u001b[0m\u001b[1;33m\u001b[0m\u001b[0m\n",
      "\u001b[1;31mModuleNotFoundError\u001b[0m: No module named 'tensorflow'"
     ]
    }
   ],
   "source": [
    "%matplotlib inline\n",
    "import numpy as np\n",
    "import matplotlib.pyplot as plt\n",
    "import tensorflow as tf\n",
    "import keras as keras\n",
    "from keras.layers import Input, Conv2D, MaxPooling2D, UpSampling2D, Flatten, Dense, Reshape\n",
    "from keras.models import Model\n",
    "from keras.optimizers import Adam, RMSprop"
   ]
  },
  {
   "cell_type": "code",
   "execution_count": 2,
   "metadata": {},
   "outputs": [
    {
     "ename": "FileNotFoundError",
     "evalue": "[Errno 2] No such file or directory: 'dataset_autoe2/npy/img_0.npy'",
     "output_type": "error",
     "traceback": [
      "\u001b[1;31m---------------------------------------------------------------------------\u001b[0m",
      "\u001b[1;31mFileNotFoundError\u001b[0m                         Traceback (most recent call last)",
      "\u001b[1;32m<ipython-input-2-523d6839a092>\u001b[0m in \u001b[0;36m<module>\u001b[1;34m\u001b[0m\n\u001b[0;32m      1\u001b[0m \u001b[1;31m## import images\u001b[0m\u001b[1;33m\u001b[0m\u001b[1;33m\u001b[0m\u001b[1;33m\u001b[0m\u001b[0m\n\u001b[0;32m      2\u001b[0m \u001b[1;33m\u001b[0m\u001b[0m\n\u001b[1;32m----> 3\u001b[1;33m \u001b[0mdata\u001b[0m \u001b[1;33m=\u001b[0m \u001b[0mnp\u001b[0m\u001b[1;33m.\u001b[0m\u001b[0marray\u001b[0m\u001b[1;33m(\u001b[0m\u001b[1;33m[\u001b[0m\u001b[0mnp\u001b[0m\u001b[1;33m.\u001b[0m\u001b[0mload\u001b[0m\u001b[1;33m(\u001b[0m\u001b[1;34m'dataset_autoe2/npy/img_'\u001b[0m\u001b[1;33m+\u001b[0m\u001b[0mstr\u001b[0m\u001b[1;33m(\u001b[0m\u001b[0mi\u001b[0m\u001b[1;33m)\u001b[0m\u001b[1;33m+\u001b[0m\u001b[1;34m'.npy'\u001b[0m\u001b[1;33m)\u001b[0m \u001b[1;32mfor\u001b[0m \u001b[0mi\u001b[0m \u001b[1;32min\u001b[0m \u001b[0mnp\u001b[0m\u001b[1;33m.\u001b[0m\u001b[0marange\u001b[0m\u001b[1;33m(\u001b[0m\u001b[1;36m10000\u001b[0m\u001b[1;33m)\u001b[0m\u001b[1;33m]\u001b[0m\u001b[1;33m)\u001b[0m\u001b[1;33m\u001b[0m\u001b[1;33m\u001b[0m\u001b[0m\n\u001b[0m",
      "\u001b[1;32m<ipython-input-2-523d6839a092>\u001b[0m in \u001b[0;36m<listcomp>\u001b[1;34m(.0)\u001b[0m\n\u001b[0;32m      1\u001b[0m \u001b[1;31m## import images\u001b[0m\u001b[1;33m\u001b[0m\u001b[1;33m\u001b[0m\u001b[1;33m\u001b[0m\u001b[0m\n\u001b[0;32m      2\u001b[0m \u001b[1;33m\u001b[0m\u001b[0m\n\u001b[1;32m----> 3\u001b[1;33m \u001b[0mdata\u001b[0m \u001b[1;33m=\u001b[0m \u001b[0mnp\u001b[0m\u001b[1;33m.\u001b[0m\u001b[0marray\u001b[0m\u001b[1;33m(\u001b[0m\u001b[1;33m[\u001b[0m\u001b[0mnp\u001b[0m\u001b[1;33m.\u001b[0m\u001b[0mload\u001b[0m\u001b[1;33m(\u001b[0m\u001b[1;34m'dataset_autoe2/npy/img_'\u001b[0m\u001b[1;33m+\u001b[0m\u001b[0mstr\u001b[0m\u001b[1;33m(\u001b[0m\u001b[0mi\u001b[0m\u001b[1;33m)\u001b[0m\u001b[1;33m+\u001b[0m\u001b[1;34m'.npy'\u001b[0m\u001b[1;33m)\u001b[0m \u001b[1;32mfor\u001b[0m \u001b[0mi\u001b[0m \u001b[1;32min\u001b[0m \u001b[0mnp\u001b[0m\u001b[1;33m.\u001b[0m\u001b[0marange\u001b[0m\u001b[1;33m(\u001b[0m\u001b[1;36m10000\u001b[0m\u001b[1;33m)\u001b[0m\u001b[1;33m]\u001b[0m\u001b[1;33m)\u001b[0m\u001b[1;33m\u001b[0m\u001b[1;33m\u001b[0m\u001b[0m\n\u001b[0m",
      "\u001b[1;32mC:\\ProgramData\\Anaconda3\\lib\\site-packages\\numpy\\lib\\npyio.py\u001b[0m in \u001b[0;36mload\u001b[1;34m(file, mmap_mode, allow_pickle, fix_imports, encoding)\u001b[0m\n\u001b[0;32m    426\u001b[0m         \u001b[0mown_fid\u001b[0m \u001b[1;33m=\u001b[0m \u001b[1;32mFalse\u001b[0m\u001b[1;33m\u001b[0m\u001b[1;33m\u001b[0m\u001b[0m\n\u001b[0;32m    427\u001b[0m     \u001b[1;32melse\u001b[0m\u001b[1;33m:\u001b[0m\u001b[1;33m\u001b[0m\u001b[1;33m\u001b[0m\u001b[0m\n\u001b[1;32m--> 428\u001b[1;33m         \u001b[0mfid\u001b[0m \u001b[1;33m=\u001b[0m \u001b[0mopen\u001b[0m\u001b[1;33m(\u001b[0m\u001b[0mos_fspath\u001b[0m\u001b[1;33m(\u001b[0m\u001b[0mfile\u001b[0m\u001b[1;33m)\u001b[0m\u001b[1;33m,\u001b[0m \u001b[1;34m\"rb\"\u001b[0m\u001b[1;33m)\u001b[0m\u001b[1;33m\u001b[0m\u001b[1;33m\u001b[0m\u001b[0m\n\u001b[0m\u001b[0;32m    429\u001b[0m         \u001b[0mown_fid\u001b[0m \u001b[1;33m=\u001b[0m \u001b[1;32mTrue\u001b[0m\u001b[1;33m\u001b[0m\u001b[1;33m\u001b[0m\u001b[0m\n\u001b[0;32m    430\u001b[0m \u001b[1;33m\u001b[0m\u001b[0m\n",
      "\u001b[1;31mFileNotFoundError\u001b[0m: [Errno 2] No such file or directory: 'dataset_autoe2/npy/img_0.npy'"
     ]
    }
   ],
   "source": [
    "## import images\n",
    "\n",
    "data = np.array([np.load('dataset_autoencoder/npy/img_'+str(i)+'.npy') for i in np.arange(10000)])"
   ]
  },
  {
   "cell_type": "code",
   "execution_count": 77,
   "metadata": {
    "collapsed": true
   },
   "outputs": [],
   "source": [
    "def build_model(img_shape=(84,84,3)):\n",
    "    \n",
    "    input_img = Input(shape=img_shape)\n",
    "    filter_size = (3, 3)\n",
    "    pooling_size = (2, 2)\n",
    "    \n",
    "    x = Conv2D(16, filter_size, activation='relu', padding='same')(input_img)\n",
    "    x = MaxPooling2D(pooling_size, padding='same')(x)\n",
    "    x = Conv2D(32, filter_size, activation='relu', padding='same')(x)\n",
    "    x = MaxPooling2D(pooling_size, padding='same')(x)\n",
    "    x = Conv2D(32, filter_size, activation='relu', padding='same')(x)\n",
    "    x = MaxPooling2D(pooling_size, padding='same')(x)\n",
    "    \n",
    "    x = Flatten()(x)\n",
    "    x = Dense(20, activation=\"relu\")(x)\n",
    "    x = Dense(11*11*32)(x)\n",
    "    x = Reshape((11, 11, 32))(x)\n",
    "\n",
    "    x = Conv2D(32, filter_size, activation='relu', padding='same')(x)\n",
    "    x = UpSampling2D(pooling_size)(x)\n",
    "    x = Conv2D(32, filter_size, activation='relu', padding='same')(x)\n",
    "    x = UpSampling2D(pooling_size)(x)\n",
    "    x = Conv2D(16, filter_size, activation='relu')(x)\n",
    "    x = UpSampling2D(pooling_size)(x)\n",
    "    x = Conv2D(3, filter_size, activation='relu', padding='same')(x)\n",
    "\n",
    "    autoencoder = Model(input_img, x)\n",
    "    \n",
    "    optimizer = RMSprop(lr=0.001) #before 0.002\n",
    "    autoencoder.compile(loss='mse', optimizer=optimizer)\n",
    "    \n",
    "    autoencoder.summary()\n",
    "    \n",
    "    return autoencoder"
   ]
  },
  {
   "cell_type": "code",
   "execution_count": 78,
   "metadata": {},
   "outputs": [
    {
     "name": "stdout",
     "output_type": "stream",
     "text": [
      "_________________________________________________________________\n",
      "Layer (type)                 Output Shape              Param #   \n",
      "=================================================================\n",
      "input_22 (InputLayer)        (None, 84, 84, 3)         0         \n",
      "_________________________________________________________________\n",
      "conv2d_156 (Conv2D)          (None, 84, 84, 16)        448       \n",
      "_________________________________________________________________\n",
      "max_pooling2d_69 (MaxPooling (None, 42, 42, 16)        0         \n",
      "_________________________________________________________________\n",
      "conv2d_157 (Conv2D)          (None, 42, 42, 32)        4640      \n",
      "_________________________________________________________________\n",
      "max_pooling2d_70 (MaxPooling (None, 21, 21, 32)        0         \n",
      "_________________________________________________________________\n",
      "conv2d_158 (Conv2D)          (None, 21, 21, 32)        9248      \n",
      "_________________________________________________________________\n",
      "max_pooling2d_71 (MaxPooling (None, 11, 11, 32)        0         \n",
      "_________________________________________________________________\n",
      "flatten_21 (Flatten)         (None, 3872)              0         \n",
      "_________________________________________________________________\n",
      "dense_41 (Dense)             (None, 20)                77460     \n",
      "_________________________________________________________________\n",
      "dense_42 (Dense)             (None, 3872)              81312     \n",
      "_________________________________________________________________\n",
      "reshape_21 (Reshape)         (None, 11, 11, 32)        0         \n",
      "_________________________________________________________________\n",
      "conv2d_159 (Conv2D)          (None, 11, 11, 32)        9248      \n",
      "_________________________________________________________________\n",
      "up_sampling2d_67 (UpSampling (None, 22, 22, 32)        0         \n",
      "_________________________________________________________________\n",
      "conv2d_160 (Conv2D)          (None, 22, 22, 32)        9248      \n",
      "_________________________________________________________________\n",
      "up_sampling2d_68 (UpSampling (None, 44, 44, 32)        0         \n",
      "_________________________________________________________________\n",
      "conv2d_161 (Conv2D)          (None, 42, 42, 16)        4624      \n",
      "_________________________________________________________________\n",
      "up_sampling2d_69 (UpSampling (None, 84, 84, 16)        0         \n",
      "_________________________________________________________________\n",
      "conv2d_162 (Conv2D)          (None, 84, 84, 3)         435       \n",
      "=================================================================\n",
      "Total params: 196,663\n",
      "Trainable params: 196,663\n",
      "Non-trainable params: 0\n",
      "_________________________________________________________________\n"
     ]
    }
   ],
   "source": [
    "model = build_model()"
   ]
  },
  {
   "cell_type": "code",
   "execution_count": null,
   "metadata": {
    "collapsed": true
   },
   "outputs": [],
   "source": [
    "model.load_model('autoencoder.h5')"
   ]
  },
  {
   "cell_type": "code",
   "execution_count": 93,
   "metadata": {},
   "outputs": [
    {
     "name": "stdout",
     "output_type": "stream",
     "text": [
      "Epoch 1/20\n",
      "10000/10000 [==============================] - 9s 896us/step - loss: 0.0031\n",
      "Epoch 2/20\n",
      "10000/10000 [==============================] - 9s 884us/step - loss: 0.0031\n",
      "Epoch 3/20\n",
      "10000/10000 [==============================] - 9s 909us/step - loss: 0.0031\n",
      "Epoch 4/20\n",
      "10000/10000 [==============================] - 9s 908us/step - loss: 0.0031\n",
      "Epoch 5/20\n",
      "10000/10000 [==============================] - 9s 901us/step - loss: 0.0031\n",
      "Epoch 6/20\n",
      "10000/10000 [==============================] - 9s 873us/step - loss: 0.0031\n",
      "Epoch 7/20\n",
      "10000/10000 [==============================] - 9s 897us/step - loss: 0.0031\n",
      "Epoch 8/20\n",
      "10000/10000 [==============================] - 9s 887us/step - loss: 0.0031\n",
      "Epoch 9/20\n",
      "10000/10000 [==============================] - 9s 889us/step - loss: 0.0031\n",
      "Epoch 10/20\n",
      "10000/10000 [==============================] - 9s 855us/step - loss: 0.0031\n",
      "Epoch 11/20\n",
      "10000/10000 [==============================] - 9s 858us/step - loss: 0.0030\n",
      "Epoch 12/20\n",
      "10000/10000 [==============================] - 9s 878us/step - loss: 0.0031\n",
      "Epoch 13/20\n",
      "10000/10000 [==============================] - 9s 875us/step - loss: 0.0030\n",
      "Epoch 14/20\n",
      "10000/10000 [==============================] - 9s 913us/step - loss: 0.0030\n",
      "Epoch 15/20\n",
      "10000/10000 [==============================] - 9s 901us/step - loss: 0.0030\n",
      "Epoch 16/20\n",
      "10000/10000 [==============================] - 9s 909us/step - loss: 0.0030\n",
      "Epoch 17/20\n",
      "10000/10000 [==============================] - 9s 868us/step - loss: 0.0030\n",
      "Epoch 18/20\n",
      "10000/10000 [==============================] - 9s 888us/step - loss: 0.0030\n",
      "Epoch 19/20\n",
      "10000/10000 [==============================] - 9s 910us/step - loss: 0.0030\n",
      "Epoch 20/20\n",
      "10000/10000 [==============================] - 9s 912us/step - loss: 0.0030\n"
     ]
    }
   ],
   "source": [
    "history = model.fit(data, data, epochs=50, batch_size=64)"
   ]
  },
  {
   "cell_type": "code",
   "execution_count": 95,
   "metadata": {
    "collapsed": true
   },
   "outputs": [],
   "source": [
    "model.save('autoencoder_newdac.h5')"
   ]
  },
  {
   "cell_type": "code",
   "execution_count": 105,
   "metadata": {},
   "outputs": [
    {
     "data": {
      "image/png": "[encoded data removed]",
      "text/plain": [
       "<Figure size 432x288 with 1 Axes>"
      ]
     },
     "metadata": {
      "needs_background": "light"
     },
     "output_type": "display_data"
    },
    {
     "data": {
      "image/png": "[encoded data removed]",
      "text/plain": [
       "<Figure size 432x288 with 1 Axes>"
      ]
     },
     "metadata": {
      "needs_background": "light"
     },
     "output_type": "display_data"
    }
   ],
   "source": [
    "indx = 20\n",
    "\n",
    "plt.imshow(data[indx])\n",
    "plt.show()\n",
    "\n",
    "plt.imshow(model.predict([[data[indx]]])[0])\n",
    "plt.show()"
   ]
  },
  {
   "cell_type": "code",
   "execution_count": null,
   "metadata": {
    "collapsed": true
   },
   "outputs": [],
   "source": []
  }
 ],
 "metadata": {
  "kernelspec": {
   "display_name": "Python 3 (ipykernel)",
   "language": "python",
   "name": "python3"
  },
  "language_info": {
   "codemirror_mode": {
    "name": "ipython",
    "version": 3
   },
   "file_extension": ".py",
   "mimetype": "text/x-python",
   "name": "python",
   "nbconvert_exporter": "python",
   "pygments_lexer": "ipython3",
   "version": "3.9.7"
  }
 },
 "nbformat": 4,
 "nbformat_minor": 2
}
